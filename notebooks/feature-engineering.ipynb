{
 "cells": [
  {
   "cell_type": "code",
   "execution_count": 4,
   "metadata": {},
   "outputs": [],
   "source": [
    "import time\n",
    "import os\n",
    "import pandas as pd\n",
    "import nltk\n",
    "import re\n",
    "import numpy as np\n",
    "import itertools\n",
    "from sklearn.feature_extraction.text import TfidfVectorizer\n",
    "import os\n",
    "\n",
    "from sklearn.base import BaseEstimator, TransformerMixin\n",
    "import pandas as pd\n",
    "from sklearn.feature_extraction.text import TfidfVectorizer\n",
    "# define the documents\n",
    "# implement tfidf\n",
    "from nltk.corpus import stopwords\n",
    "\n",
    "from sklearn.decomposition import TruncatedSVD\n",
    "\n",
    "DATA_PATH = \"../data/raw\""
   ]
  },
  {
   "cell_type": "code",
   "execution_count": 5,
   "metadata": {},
   "outputs": [],
   "source": [
    "# nltk.download('punkt')"
   ]
  },
  {
   "cell_type": "markdown",
   "metadata": {},
   "source": [
    "### Read data"
   ]
  },
  {
   "cell_type": "code",
   "execution_count": 6,
   "metadata": {},
   "outputs": [],
   "source": [
    "# read data\n",
    "train = pd.read_csv(os.path.join(DATA_PATH, 'drugs_train.csv'))\n",
    "test = pd.read_csv(os.path.join(DATA_PATH, 'drugs_test.csv'))\n",
    "active_ing = pd.read_csv(os.path.join(DATA_PATH, 'active_ingredients.csv'))\n",
    "drug_label_feature_eng = pd.read_csv(os.path.join(DATA_PATH, 'drug_label_feature_eng.csv'))"
   ]
  },
  {
   "cell_type": "markdown",
   "metadata": {},
   "source": [
    "### lets concat the overall datasets\n",
    "Please note that concating the train and test datastets before applying features engineering thechniques, it would cause **leakage** problems: example If you use the imputation techniques that compute some statistic of one attribute (such as\n",
    "average) or several attributes (by solving the regression problem), the leakage happens if you\n",
    "use the whole dataset to compute this statistic. Using all available examples, you contaminate\n",
    "the training data with information obtained from the validation and test examples\n",
    "\n",
    "So we will be carefull about that"
   ]
  },
  {
   "cell_type": "code",
   "execution_count": 7,
   "metadata": {},
   "outputs": [],
   "source": [
    "df = pd.concat([train, test])"
   ]
  },
  {
   "cell_type": "code",
   "execution_count": 8,
   "metadata": {},
   "outputs": [],
   "source": [
    "# get active_ingredient feature\n",
    "df = pd.merge(df, active_ing, on='drug_id', how='inner')"
   ]
  },
  {
   "cell_type": "code",
   "execution_count": 9,
   "metadata": {},
   "outputs": [],
   "source": [
    "# get feature engineering on the text description,\n",
    "df =  pd.merge(df, drug_label_feature_eng, on='description', how='inner')"
   ]
  },
  {
   "cell_type": "code",
   "execution_count": 10,
   "metadata": {},
   "outputs": [
    {
     "data": {
      "text/html": [
       "<div>\n",
       "<style scoped>\n",
       "    .dataframe tbody tr th:only-of-type {\n",
       "        vertical-align: middle;\n",
       "    }\n",
       "\n",
       "    .dataframe tbody tr th {\n",
       "        vertical-align: top;\n",
       "    }\n",
       "\n",
       "    .dataframe thead th {\n",
       "        text-align: right;\n",
       "    }\n",
       "</style>\n",
       "<table border=\"1\" class=\"dataframe\">\n",
       "  <thead>\n",
       "    <tr style=\"text-align: right;\">\n",
       "      <th></th>\n",
       "      <th>18629</th>\n",
       "      <th>18630</th>\n",
       "      <th>18631</th>\n",
       "      <th>18632</th>\n",
       "      <th>18633</th>\n",
       "    </tr>\n",
       "  </thead>\n",
       "  <tbody>\n",
       "    <tr>\n",
       "      <th>drug_id</th>\n",
       "      <td>3664_test</td>\n",
       "      <td>3664_test</td>\n",
       "      <td>3667_test</td>\n",
       "      <td>3670_test</td>\n",
       "      <td>3670_test</td>\n",
       "    </tr>\n",
       "    <tr>\n",
       "      <th>description</th>\n",
       "      <td>1 flacon(s) en verre brun pulvérisateur(s) ave...</td>\n",
       "      <td>1 flacon(s) en verre brun pulvérisateur(s) ave...</td>\n",
       "      <td>1 seringue(s) préremplie(s) en verre de 20  ml</td>\n",
       "      <td>1 flacon(s) polystyrène de 30 capsule(s)</td>\n",
       "      <td>1 flacon(s) polystyrène de 30 capsule(s)</td>\n",
       "    </tr>\n",
       "    <tr>\n",
       "      <th>administrative_status</th>\n",
       "      <td>Présentation active</td>\n",
       "      <td>Présentation active</td>\n",
       "      <td>Présentation active</td>\n",
       "      <td>Présentation active</td>\n",
       "      <td>Présentation active</td>\n",
       "    </tr>\n",
       "    <tr>\n",
       "      <th>marketing_status</th>\n",
       "      <td>Déclaration de commercialisation</td>\n",
       "      <td>Déclaration de commercialisation</td>\n",
       "      <td>Déclaration de commercialisation</td>\n",
       "      <td>Déclaration de commercialisation</td>\n",
       "      <td>Déclaration de commercialisation</td>\n",
       "    </tr>\n",
       "    <tr>\n",
       "      <th>approved_for_hospital_use</th>\n",
       "      <td>oui</td>\n",
       "      <td>oui</td>\n",
       "      <td>oui</td>\n",
       "      <td>oui</td>\n",
       "      <td>oui</td>\n",
       "    </tr>\n",
       "    <tr>\n",
       "      <th>reimbursement_rate</th>\n",
       "      <td>65%</td>\n",
       "      <td>65%</td>\n",
       "      <td>65%</td>\n",
       "      <td>65%</td>\n",
       "      <td>65%</td>\n",
       "    </tr>\n",
       "    <tr>\n",
       "      <th>dosage_form</th>\n",
       "      <td>solution</td>\n",
       "      <td>solution</td>\n",
       "      <td>solution injectable</td>\n",
       "      <td>capsule molle</td>\n",
       "      <td>capsule molle</td>\n",
       "    </tr>\n",
       "    <tr>\n",
       "      <th>route_of_administration</th>\n",
       "      <td>nasale</td>\n",
       "      <td>nasale</td>\n",
       "      <td>intra-articulaire</td>\n",
       "      <td>orale</td>\n",
       "      <td>orale</td>\n",
       "    </tr>\n",
       "    <tr>\n",
       "      <th>marketing_authorization_status</th>\n",
       "      <td>Autorisation active</td>\n",
       "      <td>Autorisation active</td>\n",
       "      <td>Autorisation active</td>\n",
       "      <td>Autorisation active</td>\n",
       "      <td>Autorisation active</td>\n",
       "    </tr>\n",
       "    <tr>\n",
       "      <th>marketing_declaration_date</th>\n",
       "      <td>19890101</td>\n",
       "      <td>19890101</td>\n",
       "      <td>20030101</td>\n",
       "      <td>19710101</td>\n",
       "      <td>19710101</td>\n",
       "    </tr>\n",
       "    <tr>\n",
       "      <th>marketing_authorization_date</th>\n",
       "      <td>19880101</td>\n",
       "      <td>19880101</td>\n",
       "      <td>20020101</td>\n",
       "      <td>19970101</td>\n",
       "      <td>19970101</td>\n",
       "    </tr>\n",
       "    <tr>\n",
       "      <th>marketing_authorization_process</th>\n",
       "      <td>Procédure nationale</td>\n",
       "      <td>Procédure nationale</td>\n",
       "      <td>Procédure nationale</td>\n",
       "      <td>Procédure nationale</td>\n",
       "      <td>Procédure nationale</td>\n",
       "    </tr>\n",
       "    <tr>\n",
       "      <th>pharmaceutical_companies</th>\n",
       "      <td>FERRING (FRANCE)</td>\n",
       "      <td>FERRING (FRANCE)</td>\n",
       "      <td>GUERBET</td>\n",
       "      <td>PHARMA DEVELOPPEMENT</td>\n",
       "      <td>PHARMA DEVELOPPEMENT</td>\n",
       "    </tr>\n",
       "    <tr>\n",
       "      <th>price</th>\n",
       "      <td>NaN</td>\n",
       "      <td>NaN</td>\n",
       "      <td>NaN</td>\n",
       "      <td>NaN</td>\n",
       "      <td>NaN</td>\n",
       "    </tr>\n",
       "    <tr>\n",
       "      <th>active_ingredient</th>\n",
       "      <td>DESMOPRESSINE</td>\n",
       "      <td>DESMOPRESSINE (ACÉTATE DE) TRIHYDRATÉ</td>\n",
       "      <td>ACIDE GADOTÉRIQUE</td>\n",
       "      <td>CONCENTRAT DE VITAMINE A SYNTHÉTIQUE</td>\n",
       "      <td>FORME HUILEUSE</td>\n",
       "    </tr>\n",
       "    <tr>\n",
       "      <th>label_plaquette</th>\n",
       "      <td>0</td>\n",
       "      <td>0</td>\n",
       "      <td>0</td>\n",
       "      <td>0</td>\n",
       "      <td>0</td>\n",
       "    </tr>\n",
       "    <tr>\n",
       "      <th>label_ampoule</th>\n",
       "      <td>0</td>\n",
       "      <td>0</td>\n",
       "      <td>0</td>\n",
       "      <td>0</td>\n",
       "      <td>0</td>\n",
       "    </tr>\n",
       "    <tr>\n",
       "      <th>label_flacon</th>\n",
       "      <td>1</td>\n",
       "      <td>1</td>\n",
       "      <td>0</td>\n",
       "      <td>1</td>\n",
       "      <td>1</td>\n",
       "    </tr>\n",
       "    <tr>\n",
       "      <th>label_tube</th>\n",
       "      <td>0</td>\n",
       "      <td>0</td>\n",
       "      <td>0</td>\n",
       "      <td>0</td>\n",
       "      <td>0</td>\n",
       "    </tr>\n",
       "    <tr>\n",
       "      <th>label_stylo</th>\n",
       "      <td>0</td>\n",
       "      <td>0</td>\n",
       "      <td>0</td>\n",
       "      <td>0</td>\n",
       "      <td>0</td>\n",
       "    </tr>\n",
       "    <tr>\n",
       "      <th>label_seringue</th>\n",
       "      <td>0</td>\n",
       "      <td>0</td>\n",
       "      <td>1</td>\n",
       "      <td>0</td>\n",
       "      <td>0</td>\n",
       "    </tr>\n",
       "    <tr>\n",
       "      <th>label_pilulier</th>\n",
       "      <td>0</td>\n",
       "      <td>0</td>\n",
       "      <td>0</td>\n",
       "      <td>0</td>\n",
       "      <td>0</td>\n",
       "    </tr>\n",
       "    <tr>\n",
       "      <th>label_sachet</th>\n",
       "      <td>0</td>\n",
       "      <td>0</td>\n",
       "      <td>0</td>\n",
       "      <td>0</td>\n",
       "      <td>0</td>\n",
       "    </tr>\n",
       "    <tr>\n",
       "      <th>label_comprime</th>\n",
       "      <td>0</td>\n",
       "      <td>0</td>\n",
       "      <td>0</td>\n",
       "      <td>0</td>\n",
       "      <td>0</td>\n",
       "    </tr>\n",
       "    <tr>\n",
       "      <th>label_gelule</th>\n",
       "      <td>0</td>\n",
       "      <td>0</td>\n",
       "      <td>0</td>\n",
       "      <td>0</td>\n",
       "      <td>0</td>\n",
       "    </tr>\n",
       "    <tr>\n",
       "      <th>label_film</th>\n",
       "      <td>0</td>\n",
       "      <td>0</td>\n",
       "      <td>0</td>\n",
       "      <td>0</td>\n",
       "      <td>0</td>\n",
       "    </tr>\n",
       "    <tr>\n",
       "      <th>label_poche</th>\n",
       "      <td>0</td>\n",
       "      <td>0</td>\n",
       "      <td>0</td>\n",
       "      <td>0</td>\n",
       "      <td>0</td>\n",
       "    </tr>\n",
       "    <tr>\n",
       "      <th>label_capsule</th>\n",
       "      <td>0</td>\n",
       "      <td>0</td>\n",
       "      <td>0</td>\n",
       "      <td>1</td>\n",
       "      <td>1</td>\n",
       "    </tr>\n",
       "    <tr>\n",
       "      <th>count_plaquette</th>\n",
       "      <td>0</td>\n",
       "      <td>0</td>\n",
       "      <td>0</td>\n",
       "      <td>0</td>\n",
       "      <td>0</td>\n",
       "    </tr>\n",
       "    <tr>\n",
       "      <th>count_ampoule</th>\n",
       "      <td>0</td>\n",
       "      <td>0</td>\n",
       "      <td>0</td>\n",
       "      <td>0</td>\n",
       "      <td>0</td>\n",
       "    </tr>\n",
       "    <tr>\n",
       "      <th>count_flacon</th>\n",
       "      <td>1</td>\n",
       "      <td>1</td>\n",
       "      <td>0</td>\n",
       "      <td>1</td>\n",
       "      <td>1</td>\n",
       "    </tr>\n",
       "    <tr>\n",
       "      <th>count_tube</th>\n",
       "      <td>0</td>\n",
       "      <td>0</td>\n",
       "      <td>0</td>\n",
       "      <td>0</td>\n",
       "      <td>0</td>\n",
       "    </tr>\n",
       "    <tr>\n",
       "      <th>count_stylo</th>\n",
       "      <td>0</td>\n",
       "      <td>0</td>\n",
       "      <td>0</td>\n",
       "      <td>0</td>\n",
       "      <td>0</td>\n",
       "    </tr>\n",
       "    <tr>\n",
       "      <th>count_seringue</th>\n",
       "      <td>0</td>\n",
       "      <td>0</td>\n",
       "      <td>1</td>\n",
       "      <td>0</td>\n",
       "      <td>0</td>\n",
       "    </tr>\n",
       "    <tr>\n",
       "      <th>count_pilulier</th>\n",
       "      <td>0</td>\n",
       "      <td>0</td>\n",
       "      <td>0</td>\n",
       "      <td>0</td>\n",
       "      <td>0</td>\n",
       "    </tr>\n",
       "    <tr>\n",
       "      <th>count_sachet</th>\n",
       "      <td>0</td>\n",
       "      <td>0</td>\n",
       "      <td>0</td>\n",
       "      <td>0</td>\n",
       "      <td>0</td>\n",
       "    </tr>\n",
       "    <tr>\n",
       "      <th>count_comprime</th>\n",
       "      <td>0</td>\n",
       "      <td>0</td>\n",
       "      <td>0</td>\n",
       "      <td>0</td>\n",
       "      <td>0</td>\n",
       "    </tr>\n",
       "    <tr>\n",
       "      <th>count_gelule</th>\n",
       "      <td>0</td>\n",
       "      <td>0</td>\n",
       "      <td>0</td>\n",
       "      <td>0</td>\n",
       "      <td>0</td>\n",
       "    </tr>\n",
       "    <tr>\n",
       "      <th>count_film</th>\n",
       "      <td>0</td>\n",
       "      <td>0</td>\n",
       "      <td>0</td>\n",
       "      <td>0</td>\n",
       "      <td>0</td>\n",
       "    </tr>\n",
       "    <tr>\n",
       "      <th>count_poche</th>\n",
       "      <td>0</td>\n",
       "      <td>0</td>\n",
       "      <td>0</td>\n",
       "      <td>0</td>\n",
       "      <td>0</td>\n",
       "    </tr>\n",
       "    <tr>\n",
       "      <th>count_capsule</th>\n",
       "      <td>0</td>\n",
       "      <td>0</td>\n",
       "      <td>0</td>\n",
       "      <td>30</td>\n",
       "      <td>30</td>\n",
       "    </tr>\n",
       "    <tr>\n",
       "      <th>count_ml</th>\n",
       "      <td>2.5</td>\n",
       "      <td>2.5</td>\n",
       "      <td>20.0</td>\n",
       "      <td>0.0</td>\n",
       "      <td>0.0</td>\n",
       "    </tr>\n",
       "  </tbody>\n",
       "</table>\n",
       "</div>"
      ],
      "text/plain": [
       "                                                                             18629  \\\n",
       "drug_id                                                                  3664_test   \n",
       "description                      1 flacon(s) en verre brun pulvérisateur(s) ave...   \n",
       "administrative_status                                          Présentation active   \n",
       "marketing_status                                  Déclaration de commercialisation   \n",
       "approved_for_hospital_use                                                      oui   \n",
       "reimbursement_rate                                                             65%   \n",
       "dosage_form                                                               solution   \n",
       "route_of_administration                                                     nasale   \n",
       "marketing_authorization_status                                 Autorisation active   \n",
       "marketing_declaration_date                                                19890101   \n",
       "marketing_authorization_date                                              19880101   \n",
       "marketing_authorization_process                                Procédure nationale   \n",
       "pharmaceutical_companies                                          FERRING (FRANCE)   \n",
       "price                                                                          NaN   \n",
       "active_ingredient                                                    DESMOPRESSINE   \n",
       "label_plaquette                                                                  0   \n",
       "label_ampoule                                                                    0   \n",
       "label_flacon                                                                     1   \n",
       "label_tube                                                                       0   \n",
       "label_stylo                                                                      0   \n",
       "label_seringue                                                                   0   \n",
       "label_pilulier                                                                   0   \n",
       "label_sachet                                                                     0   \n",
       "label_comprime                                                                   0   \n",
       "label_gelule                                                                     0   \n",
       "label_film                                                                       0   \n",
       "label_poche                                                                      0   \n",
       "label_capsule                                                                    0   \n",
       "count_plaquette                                                                  0   \n",
       "count_ampoule                                                                    0   \n",
       "count_flacon                                                                     1   \n",
       "count_tube                                                                       0   \n",
       "count_stylo                                                                      0   \n",
       "count_seringue                                                                   0   \n",
       "count_pilulier                                                                   0   \n",
       "count_sachet                                                                     0   \n",
       "count_comprime                                                                   0   \n",
       "count_gelule                                                                     0   \n",
       "count_film                                                                       0   \n",
       "count_poche                                                                      0   \n",
       "count_capsule                                                                    0   \n",
       "count_ml                                                                       2.5   \n",
       "\n",
       "                                                                             18630  \\\n",
       "drug_id                                                                  3664_test   \n",
       "description                      1 flacon(s) en verre brun pulvérisateur(s) ave...   \n",
       "administrative_status                                          Présentation active   \n",
       "marketing_status                                  Déclaration de commercialisation   \n",
       "approved_for_hospital_use                                                      oui   \n",
       "reimbursement_rate                                                             65%   \n",
       "dosage_form                                                               solution   \n",
       "route_of_administration                                                     nasale   \n",
       "marketing_authorization_status                                 Autorisation active   \n",
       "marketing_declaration_date                                                19890101   \n",
       "marketing_authorization_date                                              19880101   \n",
       "marketing_authorization_process                                Procédure nationale   \n",
       "pharmaceutical_companies                                          FERRING (FRANCE)   \n",
       "price                                                                          NaN   \n",
       "active_ingredient                            DESMOPRESSINE (ACÉTATE DE) TRIHYDRATÉ   \n",
       "label_plaquette                                                                  0   \n",
       "label_ampoule                                                                    0   \n",
       "label_flacon                                                                     1   \n",
       "label_tube                                                                       0   \n",
       "label_stylo                                                                      0   \n",
       "label_seringue                                                                   0   \n",
       "label_pilulier                                                                   0   \n",
       "label_sachet                                                                     0   \n",
       "label_comprime                                                                   0   \n",
       "label_gelule                                                                     0   \n",
       "label_film                                                                       0   \n",
       "label_poche                                                                      0   \n",
       "label_capsule                                                                    0   \n",
       "count_plaquette                                                                  0   \n",
       "count_ampoule                                                                    0   \n",
       "count_flacon                                                                     1   \n",
       "count_tube                                                                       0   \n",
       "count_stylo                                                                      0   \n",
       "count_seringue                                                                   0   \n",
       "count_pilulier                                                                   0   \n",
       "count_sachet                                                                     0   \n",
       "count_comprime                                                                   0   \n",
       "count_gelule                                                                     0   \n",
       "count_film                                                                       0   \n",
       "count_poche                                                                      0   \n",
       "count_capsule                                                                    0   \n",
       "count_ml                                                                       2.5   \n",
       "\n",
       "                                                                          18631  \\\n",
       "drug_id                                                               3667_test   \n",
       "description                      1 seringue(s) préremplie(s) en verre de 20  ml   \n",
       "administrative_status                                       Présentation active   \n",
       "marketing_status                               Déclaration de commercialisation   \n",
       "approved_for_hospital_use                                                   oui   \n",
       "reimbursement_rate                                                          65%   \n",
       "dosage_form                                                 solution injectable   \n",
       "route_of_administration                                       intra-articulaire   \n",
       "marketing_authorization_status                              Autorisation active   \n",
       "marketing_declaration_date                                             20030101   \n",
       "marketing_authorization_date                                           20020101   \n",
       "marketing_authorization_process                             Procédure nationale   \n",
       "pharmaceutical_companies                                                GUERBET   \n",
       "price                                                                       NaN   \n",
       "active_ingredient                                             ACIDE GADOTÉRIQUE   \n",
       "label_plaquette                                                               0   \n",
       "label_ampoule                                                                 0   \n",
       "label_flacon                                                                  0   \n",
       "label_tube                                                                    0   \n",
       "label_stylo                                                                   0   \n",
       "label_seringue                                                                1   \n",
       "label_pilulier                                                                0   \n",
       "label_sachet                                                                  0   \n",
       "label_comprime                                                                0   \n",
       "label_gelule                                                                  0   \n",
       "label_film                                                                    0   \n",
       "label_poche                                                                   0   \n",
       "label_capsule                                                                 0   \n",
       "count_plaquette                                                               0   \n",
       "count_ampoule                                                                 0   \n",
       "count_flacon                                                                  0   \n",
       "count_tube                                                                    0   \n",
       "count_stylo                                                                   0   \n",
       "count_seringue                                                                1   \n",
       "count_pilulier                                                                0   \n",
       "count_sachet                                                                  0   \n",
       "count_comprime                                                                0   \n",
       "count_gelule                                                                  0   \n",
       "count_film                                                                    0   \n",
       "count_poche                                                                   0   \n",
       "count_capsule                                                                 0   \n",
       "count_ml                                                                   20.0   \n",
       "\n",
       "                                                                    18632  \\\n",
       "drug_id                                                         3670_test   \n",
       "description                      1 flacon(s) polystyrène de 30 capsule(s)   \n",
       "administrative_status                                 Présentation active   \n",
       "marketing_status                         Déclaration de commercialisation   \n",
       "approved_for_hospital_use                                             oui   \n",
       "reimbursement_rate                                                    65%   \n",
       "dosage_form                                                 capsule molle   \n",
       "route_of_administration                                             orale   \n",
       "marketing_authorization_status                        Autorisation active   \n",
       "marketing_declaration_date                                       19710101   \n",
       "marketing_authorization_date                                     19970101   \n",
       "marketing_authorization_process                       Procédure nationale   \n",
       "pharmaceutical_companies                             PHARMA DEVELOPPEMENT   \n",
       "price                                                                 NaN   \n",
       "active_ingredient                    CONCENTRAT DE VITAMINE A SYNTHÉTIQUE   \n",
       "label_plaquette                                                         0   \n",
       "label_ampoule                                                           0   \n",
       "label_flacon                                                            1   \n",
       "label_tube                                                              0   \n",
       "label_stylo                                                             0   \n",
       "label_seringue                                                          0   \n",
       "label_pilulier                                                          0   \n",
       "label_sachet                                                            0   \n",
       "label_comprime                                                          0   \n",
       "label_gelule                                                            0   \n",
       "label_film                                                              0   \n",
       "label_poche                                                             0   \n",
       "label_capsule                                                           1   \n",
       "count_plaquette                                                         0   \n",
       "count_ampoule                                                           0   \n",
       "count_flacon                                                            1   \n",
       "count_tube                                                              0   \n",
       "count_stylo                                                             0   \n",
       "count_seringue                                                          0   \n",
       "count_pilulier                                                          0   \n",
       "count_sachet                                                            0   \n",
       "count_comprime                                                          0   \n",
       "count_gelule                                                            0   \n",
       "count_film                                                              0   \n",
       "count_poche                                                             0   \n",
       "count_capsule                                                          30   \n",
       "count_ml                                                              0.0   \n",
       "\n",
       "                                                                    18633  \n",
       "drug_id                                                         3670_test  \n",
       "description                      1 flacon(s) polystyrène de 30 capsule(s)  \n",
       "administrative_status                                 Présentation active  \n",
       "marketing_status                         Déclaration de commercialisation  \n",
       "approved_for_hospital_use                                             oui  \n",
       "reimbursement_rate                                                    65%  \n",
       "dosage_form                                                 capsule molle  \n",
       "route_of_administration                                             orale  \n",
       "marketing_authorization_status                        Autorisation active  \n",
       "marketing_declaration_date                                       19710101  \n",
       "marketing_authorization_date                                     19970101  \n",
       "marketing_authorization_process                       Procédure nationale  \n",
       "pharmaceutical_companies                             PHARMA DEVELOPPEMENT  \n",
       "price                                                                 NaN  \n",
       "active_ingredient                                          FORME HUILEUSE  \n",
       "label_plaquette                                                         0  \n",
       "label_ampoule                                                           0  \n",
       "label_flacon                                                            1  \n",
       "label_tube                                                              0  \n",
       "label_stylo                                                             0  \n",
       "label_seringue                                                          0  \n",
       "label_pilulier                                                          0  \n",
       "label_sachet                                                            0  \n",
       "label_comprime                                                          0  \n",
       "label_gelule                                                            0  \n",
       "label_film                                                              0  \n",
       "label_poche                                                             0  \n",
       "label_capsule                                                           1  \n",
       "count_plaquette                                                         0  \n",
       "count_ampoule                                                           0  \n",
       "count_flacon                                                            1  \n",
       "count_tube                                                              0  \n",
       "count_stylo                                                             0  \n",
       "count_seringue                                                          0  \n",
       "count_pilulier                                                          0  \n",
       "count_sachet                                                            0  \n",
       "count_comprime                                                          0  \n",
       "count_gelule                                                            0  \n",
       "count_film                                                              0  \n",
       "count_poche                                                             0  \n",
       "count_capsule                                                          30  \n",
       "count_ml                                                              0.0  "
      ]
     },
     "execution_count": 10,
     "metadata": {},
     "output_type": "execute_result"
    }
   ],
   "source": [
    "df.tail().T"
   ]
  },
  {
   "cell_type": "markdown",
   "metadata": {},
   "source": [
    "### Datetime features"
   ]
  },
  {
   "cell_type": "code",
   "execution_count": 11,
   "metadata": {},
   "outputs": [],
   "source": [
    "# convert to datetime\n",
    "df['marketing_declaration_date'] = pd.to_datetime(df['marketing_declaration_date'], format=\"%Y%m%d\")\n",
    "df['marketing_authorization_date'] = pd.to_datetime(df['marketing_authorization_date'], format=\"%Y%m%d\")"
   ]
  },
  {
   "cell_type": "code",
   "execution_count": 12,
   "metadata": {},
   "outputs": [],
   "source": [
    "# as all dates are in yyyy-01-01 \n",
    "# it would be more intersting to retrieve only year\n",
    "df['declaration_year'] = df['marketing_declaration_date'].dt.year\n",
    "df['authorization_year'] = df['marketing_authorization_date'].dt.year"
   ]
  },
  {
   "cell_type": "code",
   "execution_count": 13,
   "metadata": {},
   "outputs": [],
   "source": [
    "# anobvious features consists of extracting the date diffrences between the declaration date and the authorization date\n",
    "def get_days_diff(x):\n",
    "    return x.days\n",
    "\n",
    "df['delta_decralation_autorization'] = df['marketing_declaration_date'] - df['marketing_authorization_date']\n",
    "df['delta_decralation_autorization'] = df['delta_decralation_autorization'].apply(get_days_diff)"
   ]
  },
  {
   "cell_type": "code",
   "execution_count": 14,
   "metadata": {},
   "outputs": [],
   "source": [
    "# get the difference days AND years\n",
    "df['delta_days_decralation_autorization'] = df['delta_decralation_autorization']\n",
    "df['delta_years_decralation_autorization'] = df['delta_decralation_autorization']//365\n",
    "df = df.drop('delta_decralation_autorization', axis=1)"
   ]
  },
  {
   "cell_type": "code",
   "execution_count": 15,
   "metadata": {},
   "outputs": [
    {
     "data": {
      "text/plain": [
       "0.039229365675646666"
      ]
     },
     "execution_count": 15,
     "metadata": {},
     "output_type": "execute_result"
    }
   ],
   "source": [
    "(df['delta_days_decralation_autorization']<0).sum()/len(df)"
   ]
  },
  {
   "cell_type": "markdown",
   "metadata": {},
   "source": [
    "drugs having authorization date earlier than the declaration date were surely registred with wrong dates"
   ]
  },
  {
   "cell_type": "markdown",
   "metadata": {},
   "source": [
    "### Binary vars\n",
    "Lets pick up categorical features with only two modalities and make them binary"
   ]
  },
  {
   "cell_type": "code",
   "execution_count": 16,
   "metadata": {},
   "outputs": [
    {
     "data": {
      "text/plain": [
       "['administrative_status', 'approved_for_hospital_use']"
      ]
     },
     "execution_count": 16,
     "metadata": {},
     "output_type": "execute_result"
    }
   ],
   "source": [
    "binary_vars =  [var for var in df.columns if df[var].dtype=='object' and df[var].nunique()==2]\n",
    "binary_vars"
   ]
  },
  {
   "cell_type": "code",
   "execution_count": 17,
   "metadata": {},
   "outputs": [
    {
     "data": {
      "text/plain": [
       "array(['Présentation active', 'Présentation abrogée'], dtype=object)"
      ]
     },
     "execution_count": 17,
     "metadata": {},
     "output_type": "execute_result"
    }
   ],
   "source": [
    "df['administrative_status'].unique()"
   ]
  },
  {
   "cell_type": "markdown",
   "metadata": {},
   "source": [
    "=> Lets set entries with 'Présentation active' to 1 and those with 'Présentation abrogée' to 0"
   ]
  },
  {
   "cell_type": "code",
   "execution_count": 18,
   "metadata": {},
   "outputs": [],
   "source": [
    "\n",
    "df['administrative_status'] = df['administrative_status'].map({'Présentation active':1, 'Présentation abrogée':0})"
   ]
  },
  {
   "cell_type": "code",
   "execution_count": 19,
   "metadata": {},
   "outputs": [
    {
     "data": {
      "text/plain": [
       "array(['oui', 'non'], dtype=object)"
      ]
     },
     "execution_count": 19,
     "metadata": {},
     "output_type": "execute_result"
    }
   ],
   "source": [
    "df['approved_for_hospital_use'].unique()"
   ]
  },
  {
   "cell_type": "markdown",
   "metadata": {},
   "source": [
    "=> Lets set entries with 'oui' to 1 and those with 'non' to 0 (french translation :p)"
   ]
  },
  {
   "cell_type": "code",
   "execution_count": 20,
   "metadata": {},
   "outputs": [],
   "source": [
    "df['approved_for_hospital_use'] = df['approved_for_hospital_use'].map({'oui':1, 'non':0})"
   ]
  },
  {
   "cell_type": "markdown",
   "metadata": {},
   "source": [
    "### ordinal features\n",
    "From the analysis step we can notice that there are some features that have an ordinal degradation such as **marketing_status** **marketing_authorization_status** and **reimbursement_rate**"
   ]
  },
  {
   "cell_type": "code",
   "execution_count": 21,
   "metadata": {},
   "outputs": [
    {
     "data": {
      "text/plain": [
       "array(['Déclaration de commercialisation',\n",
       "       \"Déclaration d'arrêt de commercialisation\",\n",
       "       \"Arrêt de commercialisation (le médicament n'a plus d'autorisation)\",\n",
       "       'Déclaration de suspension de commercialisation'], dtype=object)"
      ]
     },
     "execution_count": 21,
     "metadata": {},
     "output_type": "execute_result"
    }
   ],
   "source": [
    "train['marketing_status'].unique()"
   ]
  },
  {
   "cell_type": "code",
   "execution_count": 22,
   "metadata": {},
   "outputs": [],
   "source": [
    "severity_degree = {'Déclaration de commercialisation':0,\n",
    "               'Déclaration de suspension de commercialisation':1,\n",
    "               \"Déclaration d'arrêt de commercialisation\":2,\n",
    "               \"Arrêt de commercialisation (le médicament n'a plus d'autorisation)\":3}\n",
    "# mep the degree of severity\n",
    "df['marketing_status'] = df['marketing_status'].map(severity_degree)"
   ]
  },
  {
   "cell_type": "code",
   "execution_count": 23,
   "metadata": {},
   "outputs": [
    {
     "data": {
      "text/plain": [
       "array(['Autorisation active', 'Autorisation abrogée',\n",
       "       'Autorisation archivée', 'Autorisation retirée'], dtype=object)"
      ]
     },
     "execution_count": 23,
     "metadata": {},
     "output_type": "execute_result"
    }
   ],
   "source": [
    "train['marketing_authorization_status'].unique()"
   ]
  },
  {
   "cell_type": "code",
   "execution_count": 24,
   "metadata": {},
   "outputs": [],
   "source": [
    "severity_degree = {'Autorisation active' : 0,\n",
    "                   'Autorisation abrogée' : 1,\n",
    "                   'Autorisation archivée' : 2,\n",
    "                   'Autorisation retirée' : 3}\n",
    "\n",
    "# mep the degree of severity\n",
    "df['marketing_authorization_status'] = df['marketing_authorization_status'].map(severity_degree)"
   ]
  },
  {
   "cell_type": "code",
   "execution_count": 25,
   "metadata": {},
   "outputs": [
    {
     "data": {
      "text/plain": [
       "array(['65%', '100%', '15%', '30%', '0%'], dtype=object)"
      ]
     },
     "execution_count": 25,
     "metadata": {},
     "output_type": "execute_result"
    }
   ],
   "source": [
    "train['reimbursement_rate'].unique()"
   ]
  },
  {
   "cell_type": "code",
   "execution_count": 26,
   "metadata": {},
   "outputs": [],
   "source": [
    "reimbursement_rate_map = {'0%' : 0,\n",
    "                           '15%' : 1,\n",
    "                           '30%' : 2,\n",
    "                           '65%' : 3,\n",
    "                         '100%' : 4}\n",
    "\n",
    "# mep the degree of severity\n",
    "df['reimbursement_rate'] = df['reimbursement_rate'].map(reimbursement_rate_map)"
   ]
  },
  {
   "cell_type": "code",
   "execution_count": 27,
   "metadata": {},
   "outputs": [
    {
     "data": {
      "text/plain": [
       "count    18634.000000\n",
       "mean         2.873618\n",
       "std          0.514449\n",
       "min          1.000000\n",
       "25%          3.000000\n",
       "50%          3.000000\n",
       "75%          3.000000\n",
       "max          4.000000\n",
       "Name: reimbursement_rate, dtype: float64"
      ]
     },
     "execution_count": 27,
     "metadata": {},
     "output_type": "execute_result"
    }
   ],
   "source": [
    "df['reimbursement_rate'].describe()"
   ]
  },
  {
   "cell_type": "code",
   "execution_count": 28,
   "metadata": {},
   "outputs": [
    {
     "data": {
      "text/plain": [
       "139"
      ]
     },
     "execution_count": 28,
     "metadata": {},
     "output_type": "execute_result"
    }
   ],
   "source": [
    "(train['dosage_form'].value_counts()>1).sum()"
   ]
  },
  {
   "cell_type": "code",
   "execution_count": 29,
   "metadata": {},
   "outputs": [
    {
     "name": "stderr",
     "output_type": "stream",
     "text": [
      "[nltk_data] Downloading package stopwords to /home/zoona/nltk_data...\n",
      "[nltk_data]   Package stopwords is already up-to-date!\n"
     ]
    },
    {
     "data": {
      "text/plain": [
       "True"
      ]
     },
     "execution_count": 29,
     "metadata": {},
     "output_type": "execute_result"
    }
   ],
   "source": [
    "nltk.download('stopwords')"
   ]
  },
  {
   "cell_type": "code",
   "execution_count": null,
   "metadata": {},
   "outputs": [],
   "source": []
  },
  {
   "cell_type": "code",
   "execution_count": 30,
   "metadata": {},
   "outputs": [],
   "source": [
    "# Vectorization parameters\n",
    "# Range (inclusive) of n-gram sizes for tokenizing text.\n",
    "NGRAM_RANGE = (1, 2)\n",
    "\n",
    "# Limit on the number of features. We use the top 10K features.\n",
    "TOP_K = 10000\n",
    "\n",
    "# Whether text should be split into word or character n-grams.\n",
    "# One of 'word', 'char'.\n",
    "TOKEN_MODE = 'word'\n",
    "\n",
    "# Minimum document/corpus frequency below which a token will be discarded.\n",
    "MIN_DOCUMENT_FREQUENCY = 2\n",
    "\n",
    "SVD_N_COMPONENTS = 25\n",
    "\n",
    "class CustomNgramVectorize(BaseEstimator, TransformerMixin):\n",
    "    \"\"\"Vectorizes texts as n-gram vectors.\n",
    "\n",
    "    1 text = 1 tf-idf vector the length of vocabulary of unigrams + bigrams.\n",
    "\n",
    "    # Arguments\n",
    "        train_texts: list, training text strings.\n",
    "        train_labels: np.ndarray, training labels.\n",
    "        val_texts: list, validation text strings.\n",
    "\n",
    "    # Returns\n",
    "        x_train, x_val: vectorized training and validation texts\n",
    "    \"\"\"\n",
    "    def __init__(self, text, reduce=True):\n",
    "        # Create keyword arguments to pass to the 'tf-idf' vectorizer.\n",
    "        kwargs = {\n",
    "                'ngram_range': NGRAM_RANGE,  # Use 1-grams + 2-grams.\n",
    "                'dtype': 'int32',\n",
    "                'strip_accents': 'unicode',\n",
    "                'decode_error': 'replace',\n",
    "                'max_features' : 1000, #limit number of words\n",
    "                'sublinear_tf': True, # Apply sublinear tf scaling\n",
    "                'stop_words' : stopwords.words('french'),# drop french stopwords\n",
    "                'analyzer': TOKEN_MODE,  # Split text into word tokens.\n",
    "                'min_df': MIN_DOCUMENT_FREQUENCY,\n",
    "        }\n",
    "        self.tfidf_vectorizer = TfidfVectorizer(**kwargs)\n",
    "        self.reduce = reduce\n",
    "        if self.reduce:\n",
    "            self.svd = TruncatedSVD(n_components=SVD_N_COMPONENTS, n_iter=25, random_state=12)\n",
    "    \n",
    "    def fit(self, X, y=None):\n",
    "        self.tfidf_vectorizer.fit(X)\n",
    "            \n",
    "    def transform(self, X, y=None):\n",
    "        X = self.tfidf_vectorizer.transform(X)\n",
    "        # convert to dataframe\n",
    "        X_df = pd.DataFrame(X.toarray(), columns=sorted(self.tfidf_vectorizer.vocabulary_))\n",
    "        if self.reduce:\n",
    "            X_df = self.svd.fit_transform(X_df)\n",
    "        return X_df\n",
    "    \n",
    "    \n"
   ]
  },
  {
   "cell_type": "code",
   "execution_count": 31,
   "metadata": {},
   "outputs": [
    {
     "name": "stderr",
     "output_type": "stream",
     "text": [
      "/home/zoona/PROJECTS/venv/lib/python3.8/site-packages/scikit_learn-0.24.2-py3.8-linux-x86_64.egg/sklearn/feature_extraction/text.py:1801: UserWarning: Only (<class 'numpy.float64'>, <class 'numpy.float32'>, <class 'numpy.float16'>) 'dtype' should be used. int32 'dtype' will be converted to np.float64.\n",
      "  warnings.warn(\"Only {} 'dtype' should be used. {} 'dtype' will \"\n",
      "/home/zoona/PROJECTS/venv/lib/python3.8/site-packages/scikit_learn-0.24.2-py3.8-linux-x86_64.egg/sklearn/feature_extraction/text.py:388: UserWarning: Your stop_words may be inconsistent with your preprocessing. Tokenizing the stop words generated tokens ['etaient', 'etais', 'etait', 'etant', 'etante', 'etantes', 'etants', 'ete', 'etee', 'etees', 'etes', 'etiez', 'etions', 'eumes', 'eutes', 'fumes', 'futes', 'meme'] not in stop_words.\n",
      "  warnings.warn('Your stop_words may be inconsistent with '\n"
     ]
    }
   ],
   "source": [
    "var = 'dosage_form'\n",
    "vectorizer = CustomNgramVectorize(train[var], reduce=True)\n",
    "# train only on train dataset\n",
    "vectorizer.fit(train[var])\n",
    "\n",
    "# transform the ovearall\n",
    "X_df = vectorizer.transform(df[var])\n",
    "\n",
    "# add new svd transformed vectore\n",
    "df = pd.concat([df,\n",
    "                pd.DataFrame(X_df, columns=[f'{var}_svd_tfidf_component_{i}' for i in range(SVD_N_COMPONENTS)])],\n",
    "                axis=1)    "
   ]
  },
  {
   "cell_type": "code",
   "execution_count": 32,
   "metadata": {},
   "outputs": [
    {
     "data": {
      "text/plain": [
       "['../models/dosage_form_tfidf_vectorizer.joblib']"
      ]
     },
     "execution_count": 32,
     "metadata": {},
     "output_type": "execute_result"
    }
   ],
   "source": [
    "# persist model\n",
    "import joblib\n",
    "joblib.dump(vectorizer, '../models/dosage_form_tfidf_vectorizer.joblib')\n"
   ]
  },
  {
   "cell_type": "code",
   "execution_count": 33,
   "metadata": {},
   "outputs": [
    {
     "name": "stderr",
     "output_type": "stream",
     "text": [
      "/home/zoona/PROJECTS/venv/lib/python3.8/site-packages/scikit_learn-0.24.2-py3.8-linux-x86_64.egg/sklearn/feature_extraction/text.py:1801: UserWarning: Only (<class 'numpy.float64'>, <class 'numpy.float32'>, <class 'numpy.float16'>) 'dtype' should be used. int32 'dtype' will be converted to np.float64.\n",
      "  warnings.warn(\"Only {} 'dtype' should be used. {} 'dtype' will \"\n",
      "/home/zoona/PROJECTS/venv/lib/python3.8/site-packages/scikit_learn-0.24.2-py3.8-linux-x86_64.egg/sklearn/feature_extraction/text.py:388: UserWarning: Your stop_words may be inconsistent with your preprocessing. Tokenizing the stop words generated tokens ['etaient', 'etais', 'etait', 'etant', 'etante', 'etantes', 'etants', 'ete', 'etee', 'etees', 'etes', 'etiez', 'etions', 'eumes', 'eutes', 'fumes', 'futes', 'meme'] not in stop_words.\n",
      "  warnings.warn('Your stop_words may be inconsistent with '\n"
     ]
    }
   ],
   "source": [
    "var='route_of_administration'\n",
    "v = joblib.load('../models/dosage_form_tfidf_vectorizer.joblib')\n",
    "v.fit(train[var])\n",
    "\n",
    "X_df = v.transform(df[var])"
   ]
  },
  {
   "cell_type": "code",
   "execution_count": 34,
   "metadata": {},
   "outputs": [
    {
     "data": {
      "text/plain": [
       "['../models/route_of_administration_tfidf_vectorizer.joblib']"
      ]
     },
     "execution_count": 34,
     "metadata": {},
     "output_type": "execute_result"
    }
   ],
   "source": [
    "import joblib\n",
    "joblib.dump(vectorizer, f'../models/{var}_tfidf_vectorizer.joblib')"
   ]
  },
  {
   "cell_type": "code",
   "execution_count": 35,
   "metadata": {},
   "outputs": [],
   "source": [
    "df = pd.concat([df,\n",
    "                   pd.DataFrame(X_df, columns=[f'{var}_svd_tfidf_component_{i}' for i in range(SVD_N_COMPONENTS)])],\n",
    "                   axis=1)    "
   ]
  },
  {
   "cell_type": "markdown",
   "metadata": {},
   "source": [
    "we found out most of 'pharmaceutical_companies' values contains the related country name.\n",
    "\n",
    "Let's extract countries from pharmaceutical_companies"
   ]
  },
  {
   "cell_type": "code",
   "execution_count": 38,
   "metadata": {},
   "outputs": [],
   "source": [
    "def extract_country(x):\n",
    "    m = re.search('\\((\\w+)\\)', x)\n",
    "    if m:\n",
    "        return m.group(1).replace('LUXMEBOURG', 'LUXEMBOURG')\n",
    "    return 'FRANCE'\n",
    "\n",
    "df['country'] = df['pharmaceutical_companies'].apply(extract_country)"
   ]
  },
  {
   "cell_type": "markdown",
   "metadata": {},
   "source": [
    "Let's now clean the country annotations from pharmaceutical_companies feature"
   ]
  },
  {
   "cell_type": "code",
   "execution_count": 39,
   "metadata": {},
   "outputs": [],
   "source": [
    "def clean_pharmaceutical_companies(x):\n",
    "    x = str(x).strip().split(' (')[0]\n",
    "    x = x.replace(' /', '')\n",
    "    return x.strip()\n",
    "\n",
    "df['pharmaceutical_companies'] = df['pharmaceutical_companies'].apply(clean_pharmaceutical_companies)"
   ]
  },
  {
   "cell_type": "code",
   "execution_count": 40,
   "metadata": {},
   "outputs": [
    {
     "name": "stderr",
     "output_type": "stream",
     "text": [
      "/home/zoona/PROJECTS/venv/lib/python3.8/site-packages/scikit_learn-0.24.2-py3.8-linux-x86_64.egg/sklearn/feature_extraction/text.py:1801: UserWarning: Only (<class 'numpy.float64'>, <class 'numpy.float32'>, <class 'numpy.float16'>) 'dtype' should be used. int32 'dtype' will be converted to np.float64.\n",
      "  warnings.warn(\"Only {} 'dtype' should be used. {} 'dtype' will \"\n",
      "/home/zoona/PROJECTS/venv/lib/python3.8/site-packages/scikit_learn-0.24.2-py3.8-linux-x86_64.egg/sklearn/feature_extraction/text.py:388: UserWarning: Your stop_words may be inconsistent with your preprocessing. Tokenizing the stop words generated tokens ['etaient', 'etais', 'etait', 'etant', 'etante', 'etantes', 'etants', 'ete', 'etee', 'etees', 'etes', 'etiez', 'etions', 'eumes', 'eutes', 'fumes', 'futes', 'meme'] not in stop_words.\n",
      "  warnings.warn('Your stop_words may be inconsistent with '\n"
     ]
    },
    {
     "data": {
      "text/plain": [
       "['../models/pharmaceutical_companies_tfidf_vectorizer.joblib']"
      ]
     },
     "execution_count": 40,
     "metadata": {},
     "output_type": "execute_result"
    }
   ],
   "source": [
    "var = 'pharmaceutical_companies'\n",
    "vectorizer = CustomNgramVectorize(train[var], reduce=True)\n",
    "vectorizer.fit(train[var])\n",
    "\n",
    "# persist model\n",
    "import joblib\n",
    "joblib.dump(vectorizer, f'../models/{var}_tfidf_vectorizer.joblib')\n",
    "\n",
    "\n"
   ]
  },
  {
   "cell_type": "code",
   "execution_count": 41,
   "metadata": {},
   "outputs": [],
   "source": [
    "\n",
    "X_df = vectorizer.transform(df[var])\n",
    "df = pd.concat([df,\n",
    "                   pd.DataFrame(X_df, columns=[f'{var}_svd_tfidf_component_{i}' for i in range(SVD_N_COMPONENTS)])],\n",
    "                   axis=1)    "
   ]
  },
  {
   "cell_type": "code",
   "execution_count": null,
   "metadata": {},
   "outputs": [],
   "source": []
  },
  {
   "cell_type": "code",
   "execution_count": null,
   "metadata": {},
   "outputs": [],
   "source": []
  },
  {
   "cell_type": "code",
   "execution_count": 42,
   "metadata": {},
   "outputs": [],
   "source": [
    "## retritrieve  rain/test\n",
    "train = df[~df['price'].isna()]\n",
    "test = df[df['price'].isna()]"
   ]
  },
  {
   "cell_type": "code",
   "execution_count": 43,
   "metadata": {},
   "outputs": [],
   "source": [
    "train.reset_index(drop=True).to_pickle('../data/transformed/train.pkl')\n",
    "test.reset_index(drop=True).drop('price', axis=1).to_pickle('../data/transformed/test.pkl')"
   ]
  },
  {
   "cell_type": "code",
   "execution_count": null,
   "metadata": {},
   "outputs": [],
   "source": []
  },
  {
   "cell_type": "markdown",
   "metadata": {},
   "source": [
    "### Later, lets add a one hot encoding\n"
   ]
  },
  {
   "cell_type": "code",
   "execution_count": null,
   "metadata": {},
   "outputs": [],
   "source": []
  }
 ],
 "metadata": {
  "kernelspec": {
   "display_name": "Python 3",
   "language": "python",
   "name": "python3"
  },
  "language_info": {
   "codemirror_mode": {
    "name": "ipython",
    "version": 3
   },
   "file_extension": ".py",
   "mimetype": "text/x-python",
   "name": "python",
   "nbconvert_exporter": "python",
   "pygments_lexer": "ipython3",
   "version": "3.8.10"
  }
 },
 "nbformat": 4,
 "nbformat_minor": 4
}
